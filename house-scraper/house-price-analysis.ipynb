{
 "cells": [
  {
   "cell_type": "code",
   "execution_count": 7,
   "metadata": {},
   "outputs": [
    {
     "name": "stdout",
     "output_type": "stream",
     "text": [
      "Setup Complete\n"
     ]
    }
   ],
   "source": [
    "# importing essential libraries\n",
    "import pandas as pd\n",
    "from bs4 import BeautifulSoup\n",
    "import requests\n",
    "from requests import get\n",
    "import json\n",
    "from time import time, sleep\n",
    "import warnings\n",
    "import numpy as np\n",
    "import csv\n",
    "print('Setup Complete')"
   ]
  },
  {
   "cell_type": "code",
   "execution_count": 8,
   "metadata": {},
   "outputs": [
    {
     "name": "stdout",
     "output_type": "stream",
     "text": [
      "<Response [200]>\n"
     ]
    }
   ],
   "source": [
    "url = 'https://www.zillow.com/homes/Kitchener,-ON_rb/'\n",
    "\n",
    "headers = {\n",
    "    'accept': '*/*',\n",
    "    'accept-encoding': 'gzip, deflate, br',\n",
    "    'accept-language': 'en-US,en;q=0.9',\n",
    "    'cookie': 'zguid=23|%24499efca2-ab3b-4c26-b235-98110cd56f32; zgsession=1|e8c1f6c2-3e67-4829-ba49-4ac41fbde9b0; _ga=GA1.2.1250288069.1614799965; _gid=GA1.2.63848524.1614799965; zjs_user_id=null; zjs_anonymous_id=%22499efca2-ab3b-4c26-b235-98110cd56f32%22; _pxvid=3aadd608-7c57-11eb-98eb-0242ac120017; _gcl_au=1.1.1490356057.1614799966; KruxPixel=true; DoubleClickSession=true; _fbp=fb.1.1614799966060.485944273; _pin_unauth=dWlkPU5ERTVNRFJsT1RJdE5EQTVZaTAwWkRabExXSXpNV0V0TjJJNE1qWTJZemM0T1dGaA; g_state={\"i_p\":1614807170773,\"i_l\":1}; KruxAddition=true; JSESSIONID=36D93C6BC672FD99BD004F8C73B0B2C4; _pxff_cc=U2FtZVNpdGU9TGF4Ow==; _pxff_bsco=1; _px3=ae94660c80509168d9ad889e97b840fdcfdbe9296be3b5720216753d21541695:IDDn9Ha92RMVTqTPhHaS5NADE41Pa6g4IzTQiSTa5i8y79qkHOteEBnsAfnAnRcg3s3Xwe0d1gliuM78hLpdRg==:1000:U4anTRgzvu4nGacTgkVmQ8VhE90IQ/f6DWraqq7jopHQsvV0/EyDQBJVYmJXdfsZZI0pk3vybyHH1di53/ZEUjutTrGCEPrft7dWtmy2I54wIisrct6USWnXeFMarhrk6g5or4dxuGTjaHmGM3QyIlxAIYDN2omvTfAmA/UCcY0=; _uetsid=3afcdfd07c5711eb8ecd85532f7e75af; _uetvid=3afd32807c5711ebb27be942a834e335; _gat=1; AWSALB=4kfbYKXXW70Yd5tayBtpGdy1BZNd1+OYozHTMxHUiEDFZb0B720ab6rMj6JRdcTN8xjYZaYHNryqFU73bu1rhdO57HiJXerfn0N8xm2Qj7tbdcamEY9UCOHgwjpq; AWSALBCORS=4kfbYKXXW70Yd5tayBtpGdy1BZNd1+OYozHTMxHUiEDFZb0B720ab6rMj6JRdcTN8xjYZaYHNryqFU73bu1rhdO57HiJXerfn0N8xm2Qj7tbdcamEY9UCOHgwjpq; search=6|1617396406119%7Crb%3DKitchener%252C-ON%26rect%3D43.506891%252C-80.378726%252C43.353859%252C-80.574103%26disp%3Dmap%26mdm%3Dauto%26pt%3Dpmf%252Cpf%26fs%3D1%26fr%3D0%26rs%3D0%26ah%3D0%26singlestory%3D0%26abo%3D0%26garage%3D0%26pool%3D0%26ac%3D0%26waterfront%3D0%26finished%3D0%26unfinished%3D0%26cityview%3D0%26mountainview%3D0%26parkview%3D0%26waterview%3D0%26hoadata%3D1%26zillow-owned%3D0%263dhome%3D0%09%09792705%09%09%09%09%09%09',\n",
    "    'referer': 'https://www.zillow.com/homes/Kitchener,-ON_rb/',\n",
    "    'sec-fetch-dest': 'empty',\n",
    "    'sec-fetch-mode': 'cors',\n",
    "    'sec-fetch-site': 'same-origin',\n",
    "    'user-agent': 'Mozilla/5.0 (Macintosh; Intel Mac OS X 11_2_2) AppleWebKit/537.36 (KHTML, like Gecko) Chrome/88.0.4324.192 Safari/537.36'\n",
    "}\n",
    "\n",
    "params = {\n",
    "    'searchQueryState': '{\"pagination\":{},\"usersSearchTerm\":\"Kitchener, ON\",\"mapBounds\":{\"west\":-81.27978974414061,\"east\":-79.67303925585936,\"south\":43.28714202191497,\"north\":43.57336631677886},\"regionSelection\":[{\"regionId\":792705,\"regionType\":6}],\"isMapVisible\":true,\"filterState\":{\"sortSelection\":{\"value\":\"globalrelevanceex\"},\"isAllHomes\":{\"value\":true}},\"isListVisible\":true}'\n",
    "}\n",
    "\n",
    "response = requests.get(url, headers=headers, params=params)\n",
    "\n",
    "print(response)"
   ]
  },
  {
   "cell_type": "code",
   "execution_count": 9,
   "metadata": {},
   "outputs": [
    {
     "name": "stdout",
     "output_type": "stream",
     "text": [
      "200\n",
      "200\n",
      "200\n"
     ]
    }
   ],
   "source": [
    "class ZillowScraper():\n",
    "    results = []\n",
    "    headers = {\n",
    "        'accept': '*/*',\n",
    "        'accept-encoding': 'gzip, deflate, br',\n",
    "        'accept-language': 'en-US,en;q=0.9',\n",
    "        'cookie': 'zguid=23|%24499efca2-ab3b-4c26-b235-98110cd56f32; zgsession=1|e8c1f6c2-3e67-4829-ba49-4ac41fbde9b0; _ga=GA1.2.1250288069.1614799965; _gid=GA1.2.63848524.1614799965; zjs_user_id=null; zjs_anonymous_id=%22499efca2-ab3b-4c26-b235-98110cd56f32%22; _pxvid=3aadd608-7c57-11eb-98eb-0242ac120017; _gcl_au=1.1.1490356057.1614799966; KruxPixel=true; DoubleClickSession=true; _fbp=fb.1.1614799966060.485944273; _pin_unauth=dWlkPU5ERTVNRFJsT1RJdE5EQTVZaTAwWkRabExXSXpNV0V0TjJJNE1qWTJZemM0T1dGaA; g_state={\"i_p\":1614807170773,\"i_l\":1}; KruxAddition=true; JSESSIONID=36D93C6BC672FD99BD004F8C73B0B2C4; _pxff_cc=U2FtZVNpdGU9TGF4Ow==; _pxff_bsco=1; _px3=ae94660c80509168d9ad889e97b840fdcfdbe9296be3b5720216753d21541695:IDDn9Ha92RMVTqTPhHaS5NADE41Pa6g4IzTQiSTa5i8y79qkHOteEBnsAfnAnRcg3s3Xwe0d1gliuM78hLpdRg==:1000:U4anTRgzvu4nGacTgkVmQ8VhE90IQ/f6DWraqq7jopHQsvV0/EyDQBJVYmJXdfsZZI0pk3vybyHH1di53/ZEUjutTrGCEPrft7dWtmy2I54wIisrct6USWnXeFMarhrk6g5or4dxuGTjaHmGM3QyIlxAIYDN2omvTfAmA/UCcY0=; _uetsid=3afcdfd07c5711eb8ecd85532f7e75af; _uetvid=3afd32807c5711ebb27be942a834e335; _gat=1; AWSALB=4kfbYKXXW70Yd5tayBtpGdy1BZNd1+OYozHTMxHUiEDFZb0B720ab6rMj6JRdcTN8xjYZaYHNryqFU73bu1rhdO57HiJXerfn0N8xm2Qj7tbdcamEY9UCOHgwjpq; AWSALBCORS=4kfbYKXXW70Yd5tayBtpGdy1BZNd1+OYozHTMxHUiEDFZb0B720ab6rMj6JRdcTN8xjYZaYHNryqFU73bu1rhdO57HiJXerfn0N8xm2Qj7tbdcamEY9UCOHgwjpq; search=6|1617396406119%7Crb%3DKitchener%252C-ON%26rect%3D43.506891%252C-80.378726%252C43.353859%252C-80.574103%26disp%3Dmap%26mdm%3Dauto%26pt%3Dpmf%252Cpf%26fs%3D1%26fr%3D0%26rs%3D0%26ah%3D0%26singlestory%3D0%26abo%3D0%26garage%3D0%26pool%3D0%26ac%3D0%26waterfront%3D0%26finished%3D0%26unfinished%3D0%26cityview%3D0%26mountainview%3D0%26parkview%3D0%26waterview%3D0%26hoadata%3D1%26zillow-owned%3D0%263dhome%3D0%09%09792705%09%09%09%09%09%09',\n",
    "        'referer': 'https://www.zillow.com/homes/Kitchener,-ON_rb/',\n",
    "        'sec-fetch-dest': 'empty',\n",
    "        'sec-fetch-mode': 'cors',\n",
    "        'sec-fetch-site': 'same-origin',\n",
    "        'user-agent': 'Mozilla/5.0 (Macintosh; Intel Mac OS X 11_2_2) AppleWebKit/537.36 (KHTML, like Gecko) Chrome/88.0.4324.192 Safari/537.36'\n",
    "    }\n",
    "    \n",
    "    def fetch(self, url, params):\n",
    "        reponse = requests.get(url, headers=self.headers, params=params)\n",
    "        print(response.status_code)\n",
    "        return response\n",
    "    \n",
    "    def parse(self, response):\n",
    "        content = BeautifulSoup(response, 'lxml')\n",
    "        deck = content.find('ul', {'class': \"photo-cards photo-cards_wow photo-cards_short photo-cards_extra-attribution\"})\n",
    "        for card in deck.contents:\n",
    "            script = card.find('script', {'type': 'application/ld+json'})\n",
    "            if script:\n",
    "                script_json = json.loads(script.contents[0])\n",
    "                \n",
    "                self.results.append({\n",
    "                    'latitude': script_json['geo']['latitude'],\n",
    "                    'longitude': script_json['geo']['longitude'],\n",
    "                    'floorSize': script_json['floorSize']['value'],\n",
    "                    'address': script_json['address']['streetAddress'],\n",
    "                    'url': script_json['url'],\n",
    "                    'price': card.find('div', {'class': 'list-card-price'}).text\n",
    "                })\n",
    "                \n",
    "    def to_csv(self):\n",
    "        with open('zillow.csv', 'w') as csv_file:\n",
    "            writer = csv.DictWriter(csv_file, fieldnames=self.results[0].keys())\n",
    "            writer.writeheader()\n",
    "            \n",
    "            for row in self.results:\n",
    "                writer.writerow(row)\n",
    "        \n",
    "    def run(self):\n",
    "        url = 'https://www.zillow.com/homes/Kitchener,-ON_rb/'\n",
    "        \n",
    "        for page in range(1, 4):\n",
    "            params = {\n",
    "                'searchQueryState': '{\"pagination\":{},\"usersSearchTerm\":\"Kitchener, ON\",\"mapBounds\":{\"west\":-81.27978974414061,\"east\":-79.67303925585936,\"south\":43.28714202191497,\"north\":43.57336631677886},\"regionSelection\":[{\"regionId\":792705,\"regionType\":6}],\"isMapVisible\":true,\"filterState\":{\"sortSelection\":{\"value\":\"globalrelevanceex\"},\"isAllHomes\":{\"value\":true}},\"isListVisible\":true}'\n",
    "            }\n",
    "\n",
    "            res = self.fetch(url, params)\n",
    "            self.parse(res.text)\n",
    "            sleep(2)\n",
    "        self.to_csv()\n",
    "        \n",
    "if __name__ == '__main__':\n",
    "    scraper = ZillowScraper()\n",
    "    scraper.run()"
   ]
  },
  {
   "cell_type": "code",
   "execution_count": 10,
   "metadata": {},
   "outputs": [
    {
     "data": {
      "text/html": [
       "<div>\n",
       "<style scoped>\n",
       "    .dataframe tbody tr th:only-of-type {\n",
       "        vertical-align: middle;\n",
       "    }\n",
       "\n",
       "    .dataframe tbody tr th {\n",
       "        vertical-align: top;\n",
       "    }\n",
       "\n",
       "    .dataframe thead th {\n",
       "        text-align: right;\n",
       "    }\n",
       "</style>\n",
       "<table border=\"1\" class=\"dataframe\">\n",
       "  <thead>\n",
       "    <tr style=\"text-align: right;\">\n",
       "      <th></th>\n",
       "      <th>latitude</th>\n",
       "      <th>longitude</th>\n",
       "      <th>floorSize</th>\n",
       "      <th>address</th>\n",
       "      <th>url</th>\n",
       "      <th>price</th>\n",
       "    </tr>\n",
       "  </thead>\n",
       "  <tbody>\n",
       "    <tr>\n",
       "      <th>0</th>\n",
       "      <td>43.417062</td>\n",
       "      <td>-80.499791</td>\n",
       "      <td>1,057</td>\n",
       "      <td>21 Laurentian Dr</td>\n",
       "      <td>https://www.zillow.com/homedetails/21-Laurenti...</td>\n",
       "      <td>C$769,900</td>\n",
       "    </tr>\n",
       "    <tr>\n",
       "      <th>1</th>\n",
       "      <td>43.401280</td>\n",
       "      <td>-80.508636</td>\n",
       "      <td>1,258</td>\n",
       "      <td>132 Donnenwerth Dr</td>\n",
       "      <td>https://www.zillow.com/homedetails/132-Donnenw...</td>\n",
       "      <td>C$500,000</td>\n",
       "    </tr>\n",
       "    <tr>\n",
       "      <th>2</th>\n",
       "      <td>43.418203</td>\n",
       "      <td>-80.541708</td>\n",
       "      <td>NaN</td>\n",
       "      <td>29 Meadow Woods Cres</td>\n",
       "      <td>https://www.zillow.com/homedetails/29-Meadow-W...</td>\n",
       "      <td>C$549,000</td>\n",
       "    </tr>\n",
       "    <tr>\n",
       "      <th>3</th>\n",
       "      <td>43.435254</td>\n",
       "      <td>-80.439104</td>\n",
       "      <td>1,536</td>\n",
       "      <td>149 Fergus Ave</td>\n",
       "      <td>https://www.zillow.com/homedetails/149-Fergus-...</td>\n",
       "      <td>C$675,000</td>\n",
       "    </tr>\n",
       "    <tr>\n",
       "      <th>4</th>\n",
       "      <td>43.459469</td>\n",
       "      <td>-80.501053</td>\n",
       "      <td>NaN</td>\n",
       "      <td>20 Bismark Ave</td>\n",
       "      <td>https://www.zillow.com/homedetails/20-Bismark-...</td>\n",
       "      <td>C$689,000</td>\n",
       "    </tr>\n",
       "  </tbody>\n",
       "</table>\n",
       "</div>"
      ],
      "text/plain": [
       "    latitude  longitude floorSize               address  \\\n",
       "0  43.417062 -80.499791     1,057      21 Laurentian Dr   \n",
       "1  43.401280 -80.508636     1,258    132 Donnenwerth Dr   \n",
       "2  43.418203 -80.541708       NaN  29 Meadow Woods Cres   \n",
       "3  43.435254 -80.439104     1,536        149 Fergus Ave   \n",
       "4  43.459469 -80.501053       NaN        20 Bismark Ave   \n",
       "\n",
       "                                                 url      price  \n",
       "0  https://www.zillow.com/homedetails/21-Laurenti...  C$769,900  \n",
       "1  https://www.zillow.com/homedetails/132-Donnenw...  C$500,000  \n",
       "2  https://www.zillow.com/homedetails/29-Meadow-W...  C$549,000  \n",
       "3  https://www.zillow.com/homedetails/149-Fergus-...  C$675,000  \n",
       "4  https://www.zillow.com/homedetails/20-Bismark-...  C$689,000  "
      ]
     },
     "execution_count": 10,
     "metadata": {},
     "output_type": "execute_result"
    }
   ],
   "source": [
    "zillow = pd.read_csv('./zillow.csv')\n",
    "zillow.head()"
   ]
  },
  {
   "cell_type": "code",
   "execution_count": 12,
   "metadata": {},
   "outputs": [
    {
     "data": {
      "text/plain": [
       "(120, 6)"
      ]
     },
     "execution_count": 12,
     "metadata": {},
     "output_type": "execute_result"
    }
   ],
   "source": [
    "zillow.shape"
   ]
  },
  {
   "cell_type": "code",
   "execution_count": null,
   "metadata": {},
   "outputs": [],
   "source": []
  }
 ],
 "metadata": {
  "kernelspec": {
   "display_name": "Python 3",
   "language": "python",
   "name": "python3"
  },
  "language_info": {
   "codemirror_mode": {
    "name": "ipython",
    "version": 3
   },
   "file_extension": ".py",
   "mimetype": "text/x-python",
   "name": "python",
   "nbconvert_exporter": "python",
   "pygments_lexer": "ipython3",
   "version": "3.8.3"
  }
 },
 "nbformat": 4,
 "nbformat_minor": 4
}
